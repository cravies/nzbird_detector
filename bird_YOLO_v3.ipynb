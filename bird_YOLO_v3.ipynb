{
  "cells": [
    {
      "cell_type": "markdown",
      "source": [
        "# Mount my Google Drive where I stored the data"
      ],
      "metadata": {
        "id": "GTUHdzFZ0sxt"
      }
    },
    {
      "cell_type": "code",
      "source": [
        "from google.colab import drive\n",
        "drive.mount('/content/drive', force_remount=True)"
      ],
      "metadata": {
        "colab": {
          "base_uri": "https://localhost:8080/"
        },
        "id": "bsHX57pf0vje",
        "outputId": "3fae7645-7c34-4b37-93b1-4d8810e89612"
      },
      "execution_count": 20,
      "outputs": [
        {
          "output_type": "stream",
          "name": "stdout",
          "text": [
            "Mounted at /content/drive\n"
          ]
        }
      ]
    },
    {
      "cell_type": "markdown",
      "metadata": {
        "id": "pgoP-v4nyBSK"
      },
      "source": [
        "# Grab YOLOv3 model from git repo\n",
        "\n"
      ]
    },
    {
      "cell_type": "code",
      "execution_count": 21,
      "metadata": {
        "colab": {
          "base_uri": "https://localhost:8080/"
        },
        "id": "vpFLFDCxu-vk",
        "outputId": "39abca3d-e181-4bc4-c667-6b4eb04a4f34"
      },
      "outputs": [
        {
          "output_type": "stream",
          "name": "stdout",
          "text": [
            "fatal: destination path 'yolov3' already exists and is not an empty directory.\n"
          ]
        }
      ],
      "source": [
        "!git clone https://github.com/ultralytics/yolov3.git"
      ]
    },
    {
      "cell_type": "markdown",
      "metadata": {
        "id": "K1qjT7PlzfEh"
      },
      "source": [
        "# Installing requirements"
      ]
    },
    {
      "cell_type": "code",
      "execution_count": null,
      "metadata": {
        "id": "j2er5A_ex90m"
      },
      "outputs": [],
      "source": [
        "!cd yolov3 && pip install -r requirements.txt"
      ]
    },
    {
      "cell_type": "markdown",
      "metadata": {
        "id": "otTs9TkXFYon"
      },
      "source": [
        "# Download config files from my github repo"
      ]
    },
    {
      "cell_type": "code",
      "execution_count": 23,
      "metadata": {
        "colab": {
          "base_uri": "https://localhost:8080/"
        },
        "id": "4x7xW3i_FbXY",
        "outputId": "14715d5f-2736-4861-c475-dd3ca3ea7478"
      },
      "outputs": [
        {
          "output_type": "stream",
          "name": "stdout",
          "text": [
            "Cloning into 'bird_detect'...\n",
            "remote: Enumerating objects: 1419, done.\u001b[K\n",
            "remote: Counting objects:   1% (1/90)\u001b[K\rremote: Counting objects:   2% (2/90)\u001b[K\rremote: Counting objects:   3% (3/90)\u001b[K\rremote: Counting objects:   4% (4/90)\u001b[K\rremote: Counting objects:   5% (5/90)\u001b[K\rremote: Counting objects:   6% (6/90)\u001b[K\rremote: Counting objects:   7% (7/90)\u001b[K\rremote: Counting objects:   8% (8/90)\u001b[K\rremote: Counting objects:  10% (9/90)\u001b[K\rremote: Counting objects:  11% (10/90)\u001b[K\rremote: Counting objects:  12% (11/90)\u001b[K\rremote: Counting objects:  13% (12/90)\u001b[K\rremote: Counting objects:  14% (13/90)\u001b[K\rremote: Counting objects:  15% (14/90)\u001b[K\rremote: Counting objects:  16% (15/90)\u001b[K\rremote: Counting objects:  17% (16/90)\u001b[K\rremote: Counting objects:  18% (17/90)\u001b[K\rremote: Counting objects:  20% (18/90)\u001b[K\rremote: Counting objects:  21% (19/90)\u001b[K\rremote: Counting objects:  22% (20/90)\u001b[K\rremote: Counting objects:  23% (21/90)\u001b[K\rremote: Counting objects:  24% (22/90)\u001b[K\rremote: Counting objects:  25% (23/90)\u001b[K\rremote: Counting objects:  26% (24/90)\u001b[K\rremote: Counting objects:  27% (25/90)\u001b[K\rremote: Counting objects:  28% (26/90)\u001b[K\rremote: Counting objects:  30% (27/90)\u001b[K\rremote: Counting objects:  31% (28/90)\u001b[K\rremote: Counting objects:  32% (29/90)\u001b[K\rremote: Counting objects:  33% (30/90)\u001b[K\rremote: Counting objects:  34% (31/90)\u001b[K\rremote: Counting objects:  35% (32/90)\u001b[K\rremote: Counting objects:  36% (33/90)\u001b[K\rremote: Counting objects:  37% (34/90)\u001b[K\rremote: Counting objects:  38% (35/90)\u001b[K\rremote: Counting objects:  40% (36/90)\u001b[K\rremote: Counting objects:  41% (37/90)\u001b[K\rremote: Counting objects:  42% (38/90)\u001b[K\rremote: Counting objects:  43% (39/90)\u001b[K\rremote: Counting objects:  44% (40/90)\u001b[K\rremote: Counting objects:  45% (41/90)\u001b[K\rremote: Counting objects:  46% (42/90)\u001b[K\rremote: Counting objects:  47% (43/90)\u001b[K\rremote: Counting objects:  48% (44/90)\u001b[K\rremote: Counting objects:  50% (45/90)\u001b[K\rremote: Counting objects:  51% (46/90)\u001b[K\rremote: Counting objects:  52% (47/90)\u001b[K\rremote: Counting objects:  53% (48/90)\u001b[K\rremote: Counting objects:  54% (49/90)\u001b[K\rremote: Counting objects:  55% (50/90)\u001b[K\rremote: Counting objects:  56% (51/90)\u001b[K\rremote: Counting objects:  57% (52/90)\u001b[K\rremote: Counting objects:  58% (53/90)\u001b[K\rremote: Counting objects:  60% (54/90)\u001b[K\rremote: Counting objects:  61% (55/90)\u001b[K\rremote: Counting objects:  62% (56/90)\u001b[K\rremote: Counting objects:  63% (57/90)\u001b[K\rremote: Counting objects:  64% (58/90)\u001b[K\rremote: Counting objects:  65% (59/90)\u001b[K\rremote: Counting objects:  66% (60/90)\u001b[K\rremote: Counting objects:  67% (61/90)\u001b[K\rremote: Counting objects:  68% (62/90)\u001b[K\rremote: Counting objects:  70% (63/90)\u001b[K\rremote: Counting objects:  71% (64/90)\u001b[K\rremote: Counting objects:  72% (65/90)\u001b[K\rremote: Counting objects:  73% (66/90)\u001b[K\rremote: Counting objects:  74% (67/90)\u001b[K\rremote: Counting objects:  75% (68/90)\u001b[K\rremote: Counting objects:  76% (69/90)\u001b[K\rremote: Counting objects:  77% (70/90)\u001b[K\rremote: Counting objects:  78% (71/90)\u001b[K\rremote: Counting objects:  80% (72/90)\u001b[K\rremote: Counting objects:  81% (73/90)\u001b[K\rremote: Counting objects:  82% (74/90)\u001b[K\rremote: Counting objects:  83% (75/90)\u001b[K\rremote: Counting objects:  84% (76/90)\u001b[K\rremote: Counting objects:  85% (77/90)\u001b[K\rremote: Counting objects:  86% (78/90)\u001b[K\rremote: Counting objects:  87% (79/90)\u001b[K\rremote: Counting objects:  88% (80/90)\u001b[K\rremote: Counting objects:  90% (81/90)\u001b[K\rremote: Counting objects:  91% (82/90)\u001b[K\rremote: Counting objects:  92% (83/90)\u001b[K\rremote: Counting objects:  93% (84/90)\u001b[K\rremote: Counting objects:  94% (85/90)\u001b[K\rremote: Counting objects:  95% (86/90)\u001b[K\rremote: Counting objects:  96% (87/90)\u001b[K\rremote: Counting objects:  97% (88/90)\u001b[K\rremote: Counting objects:  98% (89/90)\u001b[K\rremote: Counting objects: 100% (90/90)\u001b[K\rremote: Counting objects: 100% (90/90), done.\u001b[K\n",
            "remote: Compressing objects: 100% (54/54), done.\u001b[K\n",
            "remote: Total 1419 (delta 43), reused 75 (delta 36), pack-reused 1329\u001b[K\n",
            "Receiving objects: 100% (1419/1419), 76.39 MiB | 46.72 MiB/s, done.\n",
            "Resolving deltas: 100% (109/109), done.\n"
          ]
        }
      ],
      "source": [
        "!rm -rf ./bird_detect\n",
        "!git clone https://github.com/crabius/bird_detect"
      ]
    },
    {
      "cell_type": "markdown",
      "metadata": {
        "id": "0mJGB5_QFocD"
      },
      "source": [
        "# Move training, testing and validation images and labels to correct place"
      ]
    },
    {
      "cell_type": "code",
      "source": [
        "!cp ./drive/MyDrive/bird_data/trains.zip ./trains.zip"
      ],
      "metadata": {
        "id": "_KN1iB33aYfH"
      },
      "execution_count": 27,
      "outputs": []
    },
    {
      "cell_type": "code",
      "source": [
        "!unzip ./trains.zip"
      ],
      "metadata": {
        "id": "ATZtRFeragSE"
      },
      "execution_count": null,
      "outputs": []
    },
    {
      "cell_type": "code",
      "execution_count": 29,
      "metadata": {
        "id": "fPwdrZnOGLOn"
      },
      "outputs": [],
      "source": [
        "!rm -rf ./yolov3/train\n",
        "!mkdir ./yolov3/train\n",
        "\n",
        "!rm -rf ./yolov3/test\n",
        "!mkdir ./yolov3/test\n",
        "\n",
        "!rm -rf ./yolov3/val\n",
        "!mkdir ./yolov3/val\n",
        "\n",
        "!mkdir ./yolov3/train/images\n",
        "!mkdir ./yolov3/train/labels\n",
        "\n",
        "!mkdir ./yolov3/test/images\n",
        "!mkdir ./yolov3/test/labels\n",
        "\n",
        "!mkdir ./yolov3/val/images\n",
        "!mkdir ./yolov3/val/labels\n",
        "\n",
        "!cp -r ./trains/train/* ./yolov3/train/images\n",
        "!cp -r ./trains/train_out/* ./yolov3/train/labels\n",
        "\n",
        "!cp -r ./drive/MyDrive/bird_data/val/* ./yolov3/val/images\n",
        "!cp -r ./drive/MyDrive/bird_data/val_out/* ./yolov3/val/labels\n",
        "\n",
        "!cp -r ./drive/MyDrive/bird_data/test/vanilla/* ./yolov3/test/images\n",
        "!cp -r ./drive/MyDrive/bird_data/test_out/* ./yolov3/test/labels"
      ]
    },
    {
      "cell_type": "markdown",
      "source": [
        "# Double check for test train val leakage"
      ],
      "metadata": {
        "id": "sVQCwmwcPJ1R"
      }
    },
    {
      "cell_type": "code",
      "source": [
        "import os\n",
        "import collections\n",
        "\n",
        "def dupes():\n",
        "    \"\"\"\n",
        "    Just double checking if train test val have any overlapping files\n",
        "    \"\"\"\n",
        "    folds = [\"./yolov3/test/images\",\"./yolov3/val/images\",\"./yolov3/train/images\"]\n",
        "    files=[]\n",
        "    for folder in folds:\n",
        "        files.append(os.listdir(folder))\n",
        "    res = []\n",
        "    for folder in files:\n",
        "        for file in folder:\n",
        "            res.append(file)\n",
        "    #check if any files appear twice\n",
        "    print(\"duplicates: \",\n",
        "        [item for item,count in collections.Counter(res).items() if count > 1]\n",
        "    )\n",
        "\n",
        "dupes()"
      ],
      "metadata": {
        "colab": {
          "base_uri": "https://localhost:8080/"
        },
        "id": "3-s0hOpSPJIJ",
        "outputId": "6c853987-fa8b-4d65-b41a-f131a424529a"
      },
      "execution_count": 30,
      "outputs": [
        {
          "output_type": "stream",
          "name": "stdout",
          "text": [
            "duplicates:  []\n"
          ]
        }
      ]
    },
    {
      "cell_type": "markdown",
      "metadata": {
        "id": "473wIQFHHKaL"
      },
      "source": [
        "# Grab custom.yaml file from git repo to define my dataset format, classes etc"
      ]
    },
    {
      "cell_type": "code",
      "execution_count": 31,
      "metadata": {
        "id": "YPnJMPsnHNZ4"
      },
      "outputs": [],
      "source": [
        "!mv ./bird_detect/custom.yaml ./yolov3/data/custom.yaml"
      ]
    },
    {
      "cell_type": "markdown",
      "source": [
        " # Use tensorboard for monitoring training"
      ],
      "metadata": {
        "id": "phZoWp44lGuH"
      }
    },
    {
      "cell_type": "code",
      "source": [
        "%load_ext tensorboard\n",
        "%tensorboard --logdir=./yolov3/runs/train"
      ],
      "metadata": {
        "id": "5kys-Q70lXFl"
      },
      "execution_count": null,
      "outputs": []
    },
    {
      "cell_type": "markdown",
      "metadata": {
        "id": "Jr5K5AjwI31I"
      },
      "source": [
        "# Finetune our pretrained model on our train images for 75 epochs"
      ]
    },
    {
      "cell_type": "code",
      "execution_count": null,
      "metadata": {
        "id": "YZP-bVH5JA64"
      },
      "outputs": [],
      "source": [
        "!cd ./yolov3 && python3 train.py --weights yolov3-spp.pt --data \"data/custom.yaml\" --workers 8 --device 0 --batch-size 4 --img 416 --epochs 75"
      ]
    },
    {
      "cell_type": "markdown",
      "source": [
        "# Optional: move folder of previous run over from drive"
      ],
      "metadata": {
        "id": "LgEHNAswRtZ5"
      }
    },
    {
      "cell_type": "code",
      "source": [
        "!mkdir ./yolov3/runs\n",
        "!mkdir ./yolov3/runs/train\n",
        "!cp -r './drive/MyDrive/v3_75_epochs' ./yolov3/runs/train/"
      ],
      "metadata": {
        "id": "yQDT4VSNRr1C",
        "colab": {
          "base_uri": "https://localhost:8080/"
        },
        "outputId": "f705ed47-db78-4cc1-d87b-6478a9bdf2e7"
      },
      "execution_count": 32,
      "outputs": [
        {
          "output_type": "stream",
          "name": "stdout",
          "text": [
            "mkdir: cannot create directory ‘./yolov3/runs’: File exists\n",
            "mkdir: cannot create directory ‘./yolov3/runs/train’: File exists\n"
          ]
        }
      ]
    },
    {
      "cell_type": "markdown",
      "metadata": {
        "id": "41MtCr_Ugmpu"
      },
      "source": [
        "# Run object detection on image test set\n",
        "need to specify weights with --weights based on where they are saved"
      ]
    },
    {
      "cell_type": "code",
      "execution_count": null,
      "metadata": {
        "id": "WfDQfefWgrQP"
      },
      "outputs": [],
      "source": [
        "!cd yolov3 && python detect.py --weights 'runs/train/v3_75_epochs/weights/best.pt' --imgsz 400 --line-thickness 1 --conf-thres 0.2 --iou-thres 0.35 --source \"./test/images/\""
      ]
    },
    {
      "cell_type": "markdown",
      "source": [
        "# Copy the results so I can look at them later"
      ],
      "metadata": {
        "id": "G1g_m-aHgHg0"
      }
    },
    {
      "cell_type": "code",
      "source": [
        "!cp -r ./yolov3/runs/detect/exp13 ./drive/MyDrive/v3_test"
      ],
      "metadata": {
        "id": "cT8FYc_jnM6T",
        "colab": {
          "base_uri": "https://localhost:8080/"
        },
        "outputId": "6020a471-f70d-4094-d026-cfb6e72b2fd6"
      },
      "execution_count": 16,
      "outputs": [
        {
          "output_type": "stream",
          "name": "stdout",
          "text": [
            "cp: cannot stat './yolov3/runs/detect/exp13': No such file or directory\n"
          ]
        }
      ]
    },
    {
      "cell_type": "markdown",
      "source": [
        "# Download videos of birds to run inference on"
      ],
      "metadata": {
        "id": "DlooVJxrbwO1"
      }
    },
    {
      "cell_type": "code",
      "source": [
        "!pip install pytube"
      ],
      "metadata": {
        "colab": {
          "base_uri": "https://localhost:8080/"
        },
        "id": "BhAtT6SBcA96",
        "outputId": "ec4eb597-d1db-4c59-b2da-10c42f443b7a"
      },
      "execution_count": 35,
      "outputs": [
        {
          "output_type": "stream",
          "name": "stdout",
          "text": [
            "Looking in indexes: https://pypi.org/simple, https://us-python.pkg.dev/colab-wheels/public/simple/\n",
            "Collecting pytube\n",
            "  Using cached pytube-12.1.0-py3-none-any.whl (56 kB)\n",
            "Installing collected packages: pytube\n",
            "Successfully installed pytube-12.1.0\n"
          ]
        }
      ]
    },
    {
      "cell_type": "code",
      "source": [
        "from pytube import YouTube\n",
        "#tui\n",
        "YouTube('https://m.youtube.com/watch?v=ucvO-gphZng').streams[1].download()\n",
        "#takahe\n",
        "YouTube('https://m.youtube.com/watch?v=XRC4VATT9i8').streams[1].download()\n",
        "#kea \n",
        "YouTube('https://m.youtube.com/watch?v=OXqhYAwSask').streams[1].download()"
      ],
      "metadata": {
        "colab": {
          "base_uri": "https://localhost:8080/",
          "height": 34
        },
        "id": "h9WkxKcPcCc6",
        "outputId": "8ceaf075-6e69-41e2-bb6c-c15bfc9b04c5"
      },
      "execution_count": 36,
      "outputs": [
        {
          "output_type": "execute_result",
          "data": {
            "text/plain": [
              "'/content/Kea Unscrewed.mp4'"
            ],
            "application/vnd.google.colaboratory.intrinsic+json": {
              "type": "string"
            }
          },
          "metadata": {},
          "execution_count": 36
        }
      ]
    },
    {
      "cell_type": "markdown",
      "source": [
        "# rename them"
      ],
      "metadata": {
        "id": "n_LkbUfWvLUX"
      }
    },
    {
      "cell_type": "code",
      "source": [
        "!mv *Kea* kea.mp4\n",
        "!mv *Takahe* takahe.mp4\n",
        "!mv *Tui* tui.mp4"
      ],
      "metadata": {
        "id": "RV9pMIp3VsRu"
      },
      "execution_count": 37,
      "outputs": []
    },
    {
      "cell_type": "markdown",
      "source": [
        "# Now run inference on bird videos (have to tweak confidence threshold and iou threshold manually to get best results in different contexts)"
      ],
      "metadata": {
        "id": "5QbYJKThgQ5U"
      }
    },
    {
      "cell_type": "code",
      "source": [
        "#!cd yolov3 && python detect.py --weights 'runs/train/v3_75_epochs/weights/best.pt' --source \"../kea.mp4\" --conf-thres 0.53\n",
        "!cd yolov3 && python detect.py --weights './runs/train/v3_75_epochs/weights/best.pt' --source \"../tui.mp4\" --conf-thres 0.50\n",
        "#!cd yolov3 && python detect.py --weights 'runs/train/v3_75_epochs/weights/best.pt' --source \"../takahe.mp4\" --conf-thres 0.53"
      ],
      "metadata": {
        "id": "p2pLtokCPzWb"
      },
      "execution_count": null,
      "outputs": []
    },
    {
      "cell_type": "markdown",
      "source": [
        "# Copy the results back to my drive so I can watch them later\n",
        "Have to manually adjust the folder directories, will be the last 3 folders in ./yolov3/runs/detect/"
      ],
      "metadata": {
        "id": "gHP85fPHgZDJ"
      }
    },
    {
      "cell_type": "code",
      "source": [
        "#!cp ./yolov3/runs/detect/exp14/kea.mp4 ./drive/MyDrive/kea_v3.mp4\n",
        "!cp ./yolov3/runs/detect/exp4/tui.mp4 ./drive/MyDrive/tui_v3.mp4\n",
        "#!cp ./yolov3/runs/detect/exp16/takahe.mp4 ./drive/MyDrive/takahe_v3.mp4"
      ],
      "metadata": {
        "id": "cNar-ADdePsB"
      },
      "execution_count": 39,
      "outputs": []
    }
  ],
  "metadata": {
    "accelerator": "GPU",
    "colab": {
      "collapsed_sections": [],
      "provenance": []
    },
    "kernelspec": {
      "display_name": "Python 3",
      "name": "python3"
    },
    "language_info": {
      "name": "python"
    }
  },
  "nbformat": 4,
  "nbformat_minor": 0
}