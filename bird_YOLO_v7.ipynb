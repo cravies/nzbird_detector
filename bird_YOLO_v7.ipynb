{
  "cells": [
    {
      "cell_type": "markdown",
      "source": [
        "# Mount my Google Drive where I stored the data"
      ],
      "metadata": {
        "id": "GTUHdzFZ0sxt"
      }
    },
    {
      "cell_type": "code",
      "source": [
        "from google.colab import drive\n",
        "drive.mount('/content/drive')"
      ],
      "metadata": {
        "id": "bsHX57pf0vje"
      },
      "execution_count": null,
      "outputs": []
    },
    {
      "cell_type": "markdown",
      "metadata": {
        "id": "pgoP-v4nyBSK"
      },
      "source": [
        "# Grab YOLOv7 model from git repo\n",
        "\n"
      ]
    },
    {
      "cell_type": "code",
      "execution_count": null,
      "metadata": {
        "id": "vpFLFDCxu-vk"
      },
      "outputs": [],
      "source": [
        "!git clone https://github.com/WongKinYiu/yolov7.git"
      ]
    },
    {
      "cell_type": "markdown",
      "metadata": {
        "id": "K1qjT7PlzfEh"
      },
      "source": [
        "# Installing requirements"
      ]
    },
    {
      "cell_type": "code",
      "execution_count": null,
      "metadata": {
        "id": "j2er5A_ex90m"
      },
      "outputs": [],
      "source": [
        "!cd yolov7 && pip install -r requirements.txt"
      ]
    },
    {
      "cell_type": "markdown",
      "metadata": {
        "id": "lUJkMMB60EEA"
      },
      "source": [
        "# Download weights of pretrained model - want yolov7_training.pt for weights of model configured to work well for fine-tuning"
      ]
    },
    {
      "cell_type": "code",
      "execution_count": null,
      "metadata": {
        "id": "VtDzLpPpyAkI"
      },
      "outputs": [],
      "source": [
        "!wget https://github.com/WongKinYiu/yolov7/releases/download/v0.1/yolov7.pt"
      ]
    },
    {
      "cell_type": "code",
      "source": [
        "!mv yolov7.pt ./yolov7/yolov7.pt"
      ],
      "metadata": {
        "id": "ZFUV2MGxhfrs"
      },
      "execution_count": null,
      "outputs": []
    },
    {
      "cell_type": "markdown",
      "metadata": {
        "id": "otTs9TkXFYon"
      },
      "source": [
        "# Download config files from my github repo"
      ]
    },
    {
      "cell_type": "code",
      "execution_count": null,
      "metadata": {
        "id": "4x7xW3i_FbXY"
      },
      "outputs": [],
      "source": [
        "!rm -rf ./nzbird_detector\n",
        "!git clone https://github.com/cravies/nzbird_detector"
      ]
    },
    {
      "cell_type": "markdown",
      "metadata": {
        "id": "0mJGB5_QFocD"
      },
      "source": [
        "# Move training, testing and validation images and labels to correct place"
      ]
    },
    {
      "cell_type": "code",
      "source": [
        "!cp ./drive/MyDrive/bird_data_2/trains.zip ./trains.zip"
      ],
      "metadata": {
        "id": "_KN1iB33aYfH"
      },
      "execution_count": null,
      "outputs": []
    },
    {
      "cell_type": "code",
      "source": [
        "!unzip ./trains.zip"
      ],
      "metadata": {
        "id": "ATZtRFeragSE"
      },
      "execution_count": null,
      "outputs": []
    },
    {
      "cell_type": "code",
      "execution_count": null,
      "metadata": {
        "id": "fPwdrZnOGLOn"
      },
      "outputs": [],
      "source": [
        "!rm -rf ./yolov7/train\n",
        "!mkdir ./yolov7/train\n",
        "\n",
        "!rm -rf ./yolov7/test\n",
        "!mkdir ./yolov7/test\n",
        "\n",
        "!rm -rf ./yolov7/val\n",
        "!mkdir ./yolov7/val\n",
        "\n",
        "!mkdir ./yolov7/train/images\n",
        "!mkdir ./yolov7/train/labels\n",
        "\n",
        "!mkdir ./yolov7/test/images\n",
        "!mkdir ./yolov7/test/labels\n",
        "\n",
        "!mkdir ./yolov7/val/images\n",
        "!mkdir ./yolov7/val/labels\n",
        "\n",
        "!cp -r ./trains/train/* ./yolov7/train/images\n",
        "!cp -r ./trains/train_out/* ./yolov7/train/labels\n",
        "\n",
        "!cp -r ./drive/MyDrive/bird_data_2/val/* ./yolov7/val/images\n",
        "!cp -r ./drive/MyDrive/bird_data_2/val_out/* ./yolov7/val/labels\n",
        "\n",
        "!cp -r ./drive/MyDrive/bird_data_2/test/vanilla/* ./yolov7/test/images\n",
        "!cp -r ./drive/MyDrive/bird_data_2/test_out/* ./yolov7/test/labels"
      ]
    },
    {
      "cell_type": "markdown",
      "source": [
        "# Double check for test train val leakage"
      ],
      "metadata": {
        "id": "sVQCwmwcPJ1R"
      }
    },
    {
      "cell_type": "code",
      "source": [
        "import os\n",
        "import collections\n",
        "\n",
        "def dupes():\n",
        "    \"\"\"\n",
        "    Just double checking if train test val have any overlapping files\n",
        "    \"\"\"\n",
        "    folds = [\"./yolov7/test/images\",\"./yolov7/val/images\",\"./yolov7/train/images\"]\n",
        "    files=[]\n",
        "    for folder in folds:\n",
        "        files.append(os.listdir(folder))\n",
        "    res = []\n",
        "    for folder in files:\n",
        "        for file in folder:\n",
        "            res.append(file)\n",
        "    #check if any files appear twice\n",
        "    print(\"duplicates: \",\n",
        "        [item for item,count in collections.Counter(res).items() if count > 1]\n",
        "    )\n",
        "\n",
        "dupes()"
      ],
      "metadata": {
        "id": "3-s0hOpSPJIJ"
      },
      "execution_count": null,
      "outputs": []
    },
    {
      "cell_type": "markdown",
      "metadata": {
        "id": "473wIQFHHKaL"
      },
      "source": [
        "# Grab custom.yaml file from git repo to define my dataset format, classes etc"
      ]
    },
    {
      "cell_type": "code",
      "execution_count": null,
      "metadata": {
        "id": "YPnJMPsnHNZ4"
      },
      "outputs": [],
      "source": [
        "!mv ./nzbird_detector/custom.yaml ./yolov7/data/custom.yaml"
      ]
    },
    {
      "cell_type": "markdown",
      "source": [
        "# Grab our 100 epochs trained model saved on google drive"
      ],
      "metadata": {
        "id": "8uUmvR96_6ve"
      }
    },
    {
      "cell_type": "code",
      "source": [
        "!mkdir ./yolov7/runs/\n",
        "!mkdir ./yolov7/runs/train\n",
        "!rm -rf ./yolov7/runs/train/final\n",
        "!mkdir ./yolov7/runs/train/final\n",
        "!cp -r ./drive/MyDrive/long_run/* ./yolov7/runs/train/final"
      ],
      "metadata": {
        "id": "b9WSIK3QAFPy"
      },
      "execution_count": null,
      "outputs": []
    },
    {
      "cell_type": "markdown",
      "metadata": {
        "id": "Jr5K5AjwI31I"
      },
      "source": [
        "# Finetune our pretrained model on our train images for 100 epochs"
      ]
    },
    {
      "cell_type": "markdown",
      "source": [
        " # Use tensorboard for monitoring training"
      ],
      "metadata": {
        "id": "phZoWp44lGuH"
      }
    },
    {
      "cell_type": "code",
      "source": [
        "%load_ext tensorboard\n",
        "%tensorboard --logdir=./yolov7/runs/train"
      ],
      "metadata": {
        "id": "5kys-Q70lXFl"
      },
      "execution_count": null,
      "outputs": []
    },
    {
      "cell_type": "code",
      "execution_count": null,
      "metadata": {
        "id": "YZP-bVH5JA64"
      },
      "outputs": [],
      "source": [
        "!cd ./yolov7 && python3 train.py --weights ./yolov7.pt --data \"data/custom.yaml\" --workers 8 --device 0 --batch-size 4 --img 400 --cfg cfg/training/yolov7.yaml --hyp data/hyp.scratch.p5.yaml --epochs 100"
      ]
    },
    {
      "cell_type": "markdown",
      "metadata": {
        "id": "41MtCr_Ugmpu"
      },
      "source": [
        "# Run object detection on image test set\n",
        "need to specify weights with --weights based on where they are saved"
      ]
    },
    {
      "cell_type": "code",
      "execution_count": null,
      "metadata": {
        "id": "WfDQfefWgrQP"
      },
      "outputs": [],
      "source": [
        "!cd yolov7 && python detect.py --weights runs/train/final/weights/best.pt --conf-thres 0.07 --iou-thres 0.07 --source \"./test/images/\""
      ]
    },
    {
      "cell_type": "markdown",
      "source": [
        "# Copy the results so I can look at them later"
      ],
      "metadata": {
        "id": "G1g_m-aHgHg0"
      }
    },
    {
      "cell_type": "code",
      "source": [
        "!cp -r ./yolov7/runs/detect/exp4 ./drive/MyDrive/"
      ],
      "metadata": {
        "id": "cT8FYc_jnM6T"
      },
      "execution_count": null,
      "outputs": []
    },
    {
      "cell_type": "markdown",
      "source": [
        "# Download videos of birds to run inference on"
      ],
      "metadata": {
        "id": "DlooVJxrbwO1"
      }
    },
    {
      "cell_type": "code",
      "source": [
        "!pip install pytube"
      ],
      "metadata": {
        "id": "BhAtT6SBcA96"
      },
      "execution_count": null,
      "outputs": []
    },
    {
      "cell_type": "code",
      "source": [
        "from pytube import YouTube\n",
        "#tui\n",
        "YouTube('https://m.youtube.com/watch?v=ucvO-gphZng').streams[1].download()\n",
        "#takahe\n",
        "YouTube('https://m.youtube.com/watch?v=XRC4VATT9i8').streams[1].download()\n",
        "#kea \n",
        "YouTube('https://m.youtube.com/watch?v=OXqhYAwSask').streams[1].download()"
      ],
      "metadata": {
        "id": "h9WkxKcPcCc6"
      },
      "execution_count": null,
      "outputs": []
    },
    {
      "cell_type": "markdown",
      "source": [
        "# rename them (must do this manually)"
      ],
      "metadata": {
        "id": "n_LkbUfWvLUX"
      }
    },
    {
      "cell_type": "markdown",
      "source": [
        "# Now run inference on bird videos (have to tweak confidence threshold and iou threshold manually to work)"
      ],
      "metadata": {
        "id": "5QbYJKThgQ5U"
      }
    },
    {
      "cell_type": "code",
      "source": [
        "!cd yolov7 && python detect.py --weights runs/train/final/weights/best.pt --source \"../kea.mp4\" --conf-thres 0.45 --iou-thres 0.62"
      ],
      "metadata": {
        "id": "p2pLtokCPzWb"
      },
      "execution_count": null,
      "outputs": []
    },
    {
      "cell_type": "markdown",
      "source": [
        "# Copy the results back to my drive so I can watch them later"
      ],
      "metadata": {
        "id": "gHP85fPHgZDJ"
      }
    },
    {
      "cell_type": "code",
      "source": [
        "cp ./yolov7/runs/detect/exp10/kea.mp4 ./drive/MyDrive/kea_final.mp4"
      ],
      "metadata": {
        "id": "cNar-ADdePsB"
      },
      "execution_count": null,
      "outputs": []
    }
  ],
  "metadata": {
    "accelerator": "GPU",
    "colab": {
      "provenance": []
    },
    "kernelspec": {
      "display_name": "Python 3",
      "name": "python3"
    },
    "language_info": {
      "name": "python"
    }
  },
  "nbformat": 4,
  "nbformat_minor": 0
}